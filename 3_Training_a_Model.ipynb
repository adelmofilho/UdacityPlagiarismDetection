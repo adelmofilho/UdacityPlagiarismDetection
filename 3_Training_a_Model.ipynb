{
 "cells": [
  {
   "cell_type": "markdown",
   "metadata": {},
   "source": [
    "# Plagiarism Detection Model\n",
    "\n",
    "Now that you've created training and test data, you are ready to define and train a model. Your goal in this notebook, will be to train a binary classification model that learns to label an answer file as either plagiarized or not, based on the features you provide the model.\n",
    "\n",
    "This task will be broken down into a few discrete steps:\n",
    "\n",
    "* Upload your data to S3.\n",
    "* Define a binary classification model and a training script.\n",
    "* Train your model and deploy it.\n",
    "* Evaluate your deployed classifier and answer some questions about your approach.\n",
    "\n",
    "To complete this notebook, you'll have to complete all given exercises and answer all the questions in this notebook.\n",
    "> All your tasks will be clearly labeled **EXERCISE** and questions as **QUESTION**.\n",
    "\n",
    "It will be up to you to explore different classification models and decide on a model that gives you the best performance for this dataset.\n",
    "\n",
    "---"
   ]
  },
  {
   "cell_type": "markdown",
   "metadata": {},
   "source": [
    "## Load Data to S3\n",
    "\n",
    "In the last notebook, you should have created two files: a `training.csv` and `test.csv` file with the features and class labels for the given corpus of plagiarized/non-plagiarized text data. \n",
    "\n",
    ">The below cells load in some AWS SageMaker libraries and creates a default bucket. After creating this bucket, you can upload your locally stored data to S3.\n",
    "\n",
    "Save your train and test `.csv` feature files, locally. To do this you can run the second notebook \"2_Plagiarism_Feature_Engineering\" in SageMaker or you can manually upload your files to this notebook using the upload icon in Jupyter Lab. Then you can upload local files to S3 by using `sagemaker_session.upload_data` and pointing directly to where the training data is saved."
   ]
  },
  {
   "cell_type": "code",
   "execution_count": 4,
   "metadata": {},
   "outputs": [],
   "source": [
    "import pandas as pd\n",
    "import boto3\n",
    "import sagemaker"
   ]
  },
  {
   "cell_type": "code",
   "execution_count": 5,
   "metadata": {},
   "outputs": [
    {
     "name": "stderr",
     "output_type": "stream",
     "text": [
      "Couldn't call 'get_role' to get Role ARN from role name aadelmo to get Role path.\n"
     ]
    },
    {
     "ename": "ValueError",
     "evalue": "The current AWS identity is not a role: arn:aws:iam::977053370764:user/aadelmo, therefore it cannot be used as a SageMaker execution role",
     "output_type": "error",
     "traceback": [
      "\u001b[0;31m---------------------------------------------------------------------------\u001b[0m",
      "\u001b[0;31mValueError\u001b[0m                                Traceback (most recent call last)",
      "\u001b[0;32m<ipython-input-5-b71c2771d1c9>\u001b[0m in \u001b[0;36m<module>\u001b[0;34m\u001b[0m\n\u001b[1;32m      4\u001b[0m \u001b[0;31m# session and role\u001b[0m\u001b[0;34m\u001b[0m\u001b[0;34m\u001b[0m\u001b[0;34m\u001b[0m\u001b[0m\n\u001b[1;32m      5\u001b[0m \u001b[0msagemaker_session\u001b[0m \u001b[0;34m=\u001b[0m \u001b[0msagemaker\u001b[0m\u001b[0;34m.\u001b[0m\u001b[0mSession\u001b[0m\u001b[0;34m(\u001b[0m\u001b[0;34m)\u001b[0m\u001b[0;34m\u001b[0m\u001b[0;34m\u001b[0m\u001b[0m\n\u001b[0;32m----> 6\u001b[0;31m \u001b[0mrole\u001b[0m \u001b[0;34m=\u001b[0m \u001b[0msagemaker\u001b[0m\u001b[0;34m.\u001b[0m\u001b[0mget_execution_role\u001b[0m\u001b[0;34m(\u001b[0m\u001b[0;34m)\u001b[0m\u001b[0;34m\u001b[0m\u001b[0;34m\u001b[0m\u001b[0m\n\u001b[0m\u001b[1;32m      7\u001b[0m \u001b[0;34m\u001b[0m\u001b[0m\n\u001b[1;32m      8\u001b[0m \u001b[0;31m# create an S3 bucket\u001b[0m\u001b[0;34m\u001b[0m\u001b[0;34m\u001b[0m\u001b[0;34m\u001b[0m\u001b[0m\n",
      "\u001b[0;32m~/projetos/udacity/UdacityPlagiarismDetection/.env/lib/python3.8/site-packages/sagemaker/session.py\u001b[0m in \u001b[0;36mget_execution_role\u001b[0;34m(sagemaker_session)\u001b[0m\n\u001b[1;32m   4172\u001b[0m         \u001b[0;34m\"SageMaker execution role\"\u001b[0m\u001b[0;34m\u001b[0m\u001b[0;34m\u001b[0m\u001b[0m\n\u001b[1;32m   4173\u001b[0m     )\n\u001b[0;32m-> 4174\u001b[0;31m     \u001b[0;32mraise\u001b[0m \u001b[0mValueError\u001b[0m\u001b[0;34m(\u001b[0m\u001b[0mmessage\u001b[0m\u001b[0;34m.\u001b[0m\u001b[0mformat\u001b[0m\u001b[0;34m(\u001b[0m\u001b[0marn\u001b[0m\u001b[0;34m)\u001b[0m\u001b[0;34m)\u001b[0m\u001b[0;34m\u001b[0m\u001b[0;34m\u001b[0m\u001b[0m\n\u001b[0m\u001b[1;32m   4175\u001b[0m \u001b[0;34m\u001b[0m\u001b[0m\n\u001b[1;32m   4176\u001b[0m \u001b[0;34m\u001b[0m\u001b[0m\n",
      "\u001b[0;31mValueError\u001b[0m: The current AWS identity is not a role: arn:aws:iam::977053370764:user/aadelmo, therefore it cannot be used as a SageMaker execution role"
     ]
    }
   ],
   "source": [
    "\"\"\"\n",
    "DON'T MODIFY ANYTHING IN THIS CELL THAT IS BELOW THIS LINE\n",
    "\"\"\"\n",
    "# session and role\n",
    "sagemaker_session = sagemaker.Session()\n",
    "role = sagemaker.get_execution_role()\n",
    "\n",
    "# create an S3 bucket\n",
    "bucket = sagemaker_session.default_bucket()"
   ]
  },
  {
   "cell_type": "code",
   "execution_count": 6,
   "metadata": {},
   "outputs": [
    {
     "name": "stderr",
     "output_type": "stream",
     "text": [
      "Couldn't call 'get_role' to get Role ARN from role name aadelmo to get Role path.\n"
     ]
    }
   ],
   "source": [
    "# session and role\n",
    "sagemaker_session = sagemaker.Session()\n",
    "try:\n",
    "    role = sagemaker.get_execution_role()\n",
    "except Exception as err:\n",
    "    role = \"arn:aws:iam::977053370764:role/service-role/AmazonSageMaker-ExecutionRole-20201202T141643\"\n",
    "\n",
    "# create an S3 bucket\n",
    "bucket = sagemaker_session.default_bucket()"
   ]
  },
  {
   "cell_type": "markdown",
   "metadata": {},
   "source": [
    "## EXERCISE: Upload your training data to S3\n",
    "\n",
    "Specify the `data_dir` where you've saved your `train.csv` file. Decide on a descriptive `prefix` that defines where your data will be uploaded in the default S3 bucket. Finally, create a pointer to your training data by calling `sagemaker_session.upload_data` and passing in the required parameters. It may help to look at the [Session documentation](https://sagemaker.readthedocs.io/en/stable/session.html#sagemaker.session.Session.upload_data) or previous SageMaker code examples.\n",
    "\n",
    "You are expected to upload your entire directory. Later, the training script will only access the `train.csv` file."
   ]
  },
  {
   "cell_type": "code",
   "execution_count": 7,
   "metadata": {},
   "outputs": [
    {
     "data": {
      "text/plain": [
       "'s3://sagemaker-us-east-1-977053370764/plagiarism_data'"
      ]
     },
     "execution_count": 7,
     "metadata": {},
     "output_type": "execute_result"
    }
   ],
   "source": [
    "# should be the name of directory you created to save your features data\n",
    "data_dir = 'plagiarism_data'\n",
    "\n",
    "# set prefix, a descriptive name for a directory  \n",
    "prefix = 'plagiarism_data'\n",
    "\n",
    "# upload all data to S3\n",
    "sagemaker_session.upload_data(path=data_dir, bucket=bucket, key_prefix=prefix)"
   ]
  },
  {
   "cell_type": "markdown",
   "metadata": {},
   "source": [
    "### Test cell\n",
    "\n",
    "Test that your data has been successfully uploaded. The below cell prints out the items in your S3 bucket and will throw an error if it is empty. You should see the contents of your `data_dir` and perhaps some checkpoints. If you see any other files listed, then you may have some old model files that you can delete via the S3 console (though, additional files shouldn't affect the performance of model developed in this notebook)."
   ]
  },
  {
   "cell_type": "code",
   "execution_count": 8,
   "metadata": {},
   "outputs": [
    {
     "name": "stdout",
     "output_type": "stream",
     "text": [
      "counties/pca-2020-12-17-15-31-56-690/output/model.tar.gz\n",
      "counties/pca-2020-12-17-15-31-56-690/profiler-output/framework/training_job_end.ts\n",
      "counties/pca-2020-12-17-15-31-56-690/profiler-output/system/incremental/2020121715/1608219240.algo-1.json\n",
      "counties/pca-2020-12-17-15-31-56-690/profiler-output/system/incremental/2020121715/1608219300.algo-1.json\n",
      "counties/pca-2020-12-17-15-31-56-690/profiler-output/system/training_job_end.ts\n",
      "counties/pca-2020-12-17-15-31-56-690/rule-output/ProfilerReport-1608219116/profiler-output/profiler-report.html\n",
      "counties/pca-2020-12-17-15-31-56-690/rule-output/ProfilerReport-1608219116/profiler-output/profiler-report.ipynb\n",
      "counties/pca-2020-12-17-15-31-56-690/rule-output/ProfilerReport-1608219116/profiler-output/profiler-reports/BatchSize.json\n",
      "counties/pca-2020-12-17-15-31-56-690/rule-output/ProfilerReport-1608219116/profiler-output/profiler-reports/CPUBottleneck.json\n",
      "counties/pca-2020-12-17-15-31-56-690/rule-output/ProfilerReport-1608219116/profiler-output/profiler-reports/Dataloader.json\n",
      "counties/pca-2020-12-17-15-31-56-690/rule-output/ProfilerReport-1608219116/profiler-output/profiler-reports/GPUMemoryIncrease.json\n",
      "counties/pca-2020-12-17-15-31-56-690/rule-output/ProfilerReport-1608219116/profiler-output/profiler-reports/IOBottleneck.json\n",
      "counties/pca-2020-12-17-15-31-56-690/rule-output/ProfilerReport-1608219116/profiler-output/profiler-reports/LoadBalancing.json\n",
      "counties/pca-2020-12-17-15-31-56-690/rule-output/ProfilerReport-1608219116/profiler-output/profiler-reports/LowGPUUtilization.json\n",
      "counties/pca-2020-12-17-15-31-56-690/rule-output/ProfilerReport-1608219116/profiler-output/profiler-reports/MaxInitializationTime.json\n",
      "counties/pca-2020-12-17-15-31-56-690/rule-output/ProfilerReport-1608219116/profiler-output/profiler-reports/OverallFrameworkMetrics.json\n",
      "counties/pca-2020-12-17-15-31-56-690/rule-output/ProfilerReport-1608219116/profiler-output/profiler-reports/OverallSystemUsage.json\n",
      "counties/pca-2020-12-17-15-31-56-690/rule-output/ProfilerReport-1608219116/profiler-output/profiler-reports/StepOutlier.json\n",
      "kmeans-2020-12-17-17-24-54-458/output/model.tar.gz\n",
      "kmeans-2020-12-17-17-24-54-458/profiler-output/framework/training_job_end.ts\n",
      "kmeans-2020-12-17-17-24-54-458/profiler-output/system/incremental/2020121717/1608226020.algo-1.json\n",
      "kmeans-2020-12-17-17-24-54-458/profiler-output/system/incremental/2020121717/1608226080.algo-1.json\n",
      "kmeans-2020-12-17-17-24-54-458/profiler-output/system/training_job_end.ts\n",
      "kmeans-2020-12-17-17-24-54-458/rule-output/ProfilerReport-1608225894/profiler-output/profiler-report.html\n",
      "kmeans-2020-12-17-17-24-54-458/rule-output/ProfilerReport-1608225894/profiler-output/profiler-report.ipynb\n",
      "kmeans-2020-12-17-17-24-54-458/rule-output/ProfilerReport-1608225894/profiler-output/profiler-reports/BatchSize.json\n",
      "kmeans-2020-12-17-17-24-54-458/rule-output/ProfilerReport-1608225894/profiler-output/profiler-reports/CPUBottleneck.json\n",
      "kmeans-2020-12-17-17-24-54-458/rule-output/ProfilerReport-1608225894/profiler-output/profiler-reports/Dataloader.json\n",
      "kmeans-2020-12-17-17-24-54-458/rule-output/ProfilerReport-1608225894/profiler-output/profiler-reports/GPUMemoryIncrease.json\n",
      "kmeans-2020-12-17-17-24-54-458/rule-output/ProfilerReport-1608225894/profiler-output/profiler-reports/IOBottleneck.json\n",
      "kmeans-2020-12-17-17-24-54-458/rule-output/ProfilerReport-1608225894/profiler-output/profiler-reports/LoadBalancing.json\n",
      "kmeans-2020-12-17-17-24-54-458/rule-output/ProfilerReport-1608225894/profiler-output/profiler-reports/LowGPUUtilization.json\n",
      "kmeans-2020-12-17-17-24-54-458/rule-output/ProfilerReport-1608225894/profiler-output/profiler-reports/MaxInitializationTime.json\n",
      "kmeans-2020-12-17-17-24-54-458/rule-output/ProfilerReport-1608225894/profiler-output/profiler-reports/OverallFrameworkMetrics.json\n",
      "kmeans-2020-12-17-17-24-54-458/rule-output/ProfilerReport-1608225894/profiler-output/profiler-reports/OverallSystemUsage.json\n",
      "kmeans-2020-12-17-17-24-54-458/rule-output/ProfilerReport-1608225894/profiler-output/profiler-reports/StepOutlier.json\n",
      "linear-learner-2020-12-19-01-07-08-881/output/model.tar.gz\n",
      "linear-learner-2020-12-19-02-34-12-191/output/model.tar.gz\n",
      "linear-learner-2020-12-19-03-32-48-048/output/model.tar.gz\n",
      "plagiarism_data/test.csv\n",
      "plagiarism_data/train.csv\n",
      "sagemaker-pytorch-201206-1921-001-6218cdff/output/model.tar.gz\n",
      "sagemaker-pytorch-201206-1921-002-c2ecb597/output/model.tar.gz\n",
      "sagemaker-pytorch-201206-1921-003-b71b7ac5/output/model.tar.gz\n",
      "sagemaker-pytorch-201206-1921-004-6f352308/output/model.tar.gz\n",
      "sagemaker-pytorch-201206-1921-005-c94cae6a/output/model.tar.gz\n",
      "sagemaker-pytorch-201206-2013-001-43ede72d/output/model.tar.gz\n",
      "sagemaker-pytorch-201206-2013-002-c10937b4/output/model.tar.gz\n",
      "sagemaker-pytorch-201206-2038-001-c5950043/output/model.tar.gz\n",
      "sagemaker-pytorch-201206-2038-002-d231cec2/output/model.tar.gz\n",
      "sagemaker-pytorch-201206-2335-001-a9535160/output/model.tar.gz\n",
      "sagemaker-pytorch-201206-2335-002-df32d636/output/model.tar.gz\n",
      "sagemaker-pytorch-201206-2335-003-d4725102/output/model.tar.gz\n",
      "sagemaker-pytorch-201206-2335-004-c33bb3c3/output/model.tar.gz\n",
      "sagemaker-pytorch-201206-2335-005-581818b7/output/model.tar.gz\n",
      "sagemaker-pytorch-201206-2335-006-38fa0529/output/model.tar.gz\n",
      "sagemaker-pytorch-201206-2335-007-9001e463/output/model.tar.gz\n",
      "sagemaker-pytorch-201206-2335-008-263cc592/output/model.tar.gz\n",
      "sagemaker-pytorch-201206-2335-009-334fa7dd/output/model.tar.gz\n",
      "sagemaker-pytorch-201206-2335-010-8cd10f84/output/model.tar.gz\n",
      "sagemaker-pytorch-201207-1105-001-f1ba018b/output/model.tar.gz\n",
      "sagemaker-pytorch-201207-1105-002-2a5e510e/output/model.tar.gz\n",
      "sagemaker-pytorch-201207-1105-003-8134e58e/output/model.tar.gz\n",
      "sagemaker-pytorch-201207-1105-004-3e318f6b/output/model.tar.gz\n",
      "sagemaker-pytorch-201207-1105-005-962cac84/output/model.tar.gz\n",
      "sagemaker-pytorch-201213-1512-001-dfec7bed/output/model.tar.gz\n",
      "sagemaker-pytorch-201213-1512-002-ff93e7ee/output/model.tar.gz\n",
      "sagemaker-pytorch-201213-1512-003-a25564aa/output/model.tar.gz\n",
      "sagemaker-pytorch-201213-1512-004-7a9a83c9/output/model.tar.gz\n",
      "sagemaker-pytorch-201213-1710-001-073a52a2/output/model.tar.gz\n",
      "sagemaker-pytorch-201213-1710-002-bb62531f/output/model.tar.gz\n",
      "sagemaker-pytorch-201213-1710-003-32607d65/output/model.tar.gz\n",
      "sagemaker-pytorch-201213-1710-004-8be5bdfa/output/model.tar.gz\n",
      "sagemaker-pytorch-201213-1710-005-3f9c08c6/output/model.tar.gz\n",
      "sagemaker-pytorch-201213-1750-001-5600a29a/output/model.tar.gz\n",
      "sagemaker-pytorch-201213-1750-002-d8555afc/output/model.tar.gz\n",
      "sagemaker-pytorch-201213-1750-003-68a49eb9/output/model.tar.gz\n",
      "sagemaker-pytorch-201213-1922-001-fa8fa349/output/model.tar.gz\n",
      "sagemaker-pytorch-201213-1947-001-0e99db22/output/model.tar.gz\n",
      "sagemaker-pytorch-201213-2119-001-6ac5a17e/output/model.tar.gz\n",
      "sagemaker-pytorch-201213-2309-001-a9e7e5ba/output/model.tar.gz\n",
      "sagemaker-pytorch-201214-2202-001-6b09ef0b/output/model.tar.gz\n",
      "sagemaker-pytorch-201214-2231-001-eb3b473e/output/model.tar.gz\n",
      "sagemaker-pytorch-201214-2310-001-c2a7bfa4/output/model.tar.gz\n",
      "sagemaker-pytorch-201214-2310-002-94f74cda/output/model.tar.gz\n",
      "sagemaker-pytorch-201214-2310-003-ce3fd0a5/output/model.tar.gz\n",
      "sagemaker-pytorch-201214-2310-004-f86a288b/output/model.tar.gz\n",
      "sagemaker-pytorch-201214-2310-005-c46aa024/output/model.tar.gz\n",
      "sagemaker-pytorch-201214-2310-006-31dabbfb/output/model.tar.gz\n",
      "sagemaker-pytorch-201214-2310-007-728af095/output/model.tar.gz\n",
      "sagemaker-pytorch-201214-2310-008-b03550ed/output/model.tar.gz\n",
      "sagemaker-pytorch-201214-2310-009-a4268530/output/model.tar.gz\n",
      "sagemaker-pytorch-201214-2310-010-a2474d6a/output/model.tar.gz\n",
      "sagemaker-pytorch-2020-12-06-21-14-19-498/source/sourcedir.tar.gz\n",
      "sagemaker-pytorch-2020-12-06-21-21-59-661/source/sourcedir.tar.gz\n",
      "sagemaker-pytorch-2020-12-06-21-32-08-223/source/sourcedir.tar.gz\n",
      "sagemaker-pytorch-2020-12-06-21-46-01-082/source/sourcedir.tar.gz\n",
      "sagemaker-pytorch-2020-12-06-21-51-28-486/debug-output/training_job_end.ts\n",
      "sagemaker-pytorch-2020-12-06-21-51-28-486/output/model.tar.gz\n",
      "sagemaker-pytorch-2020-12-06-21-51-28-486/source/sourcedir.tar.gz\n",
      "sagemaker-pytorch-2020-12-06-22-10-03-055/source/sourcedir.tar.gz\n",
      "sagemaker-pytorch-2020-12-06-22-10-32-495/source/sourcedir.tar.gz\n",
      "sagemaker-pytorch-2020-12-06-22-12-38-375/source/sourcedir.tar.gz\n",
      "sagemaker-pytorch-2020-12-06-22-15-02-419/source/sourcedir.tar.gz\n",
      "sagemaker-pytorch-2020-12-06-22-21-54-318/source/sourcedir.tar.gz\n",
      "sagemaker-pytorch-2020-12-06-23-04-35-406/source/sourcedir.tar.gz\n",
      "sagemaker-pytorch-2020-12-06-23-13-24-726/source/sourcedir.tar.gz\n",
      "sagemaker-pytorch-2020-12-06-23-35-05-968/source/sourcedir.tar.gz\n",
      "sagemaker-pytorch-2020-12-06-23-35-35-838/source/sourcedir.tar.gz\n",
      "sagemaker-pytorch-2020-12-06-23-36-02-998/source/sourcedir.tar.gz\n",
      "sagemaker-pytorch-2020-12-06-23-38-15-255/source/sourcedir.tar.gz\n",
      "sagemaker-pytorch-2020-12-06-23-38-53-102/source/sourcedir.tar.gz\n",
      "sagemaker-pytorch-2020-12-07-00-26-26-973/sourcedir.tar.gz\n",
      "sagemaker-pytorch-2020-12-07-00-26-29-557/sourcedir.tar.gz\n",
      "sagemaker-pytorch-2020-12-07-01-00-55-997/sourcedir.tar.gz\n",
      "sagemaker-pytorch-2020-12-07-01-25-34-250/sourcedir.tar.gz\n",
      "sagemaker-pytorch-2020-12-07-01-41-21-789/sourcedir.tar.gz\n",
      "sagemaker-pytorch-2020-12-07-02-18-27-744/source/sourcedir.tar.gz\n",
      "sagemaker-pytorch-2020-12-07-02-35-00-853/source/sourcedir.tar.gz\n",
      "sagemaker-pytorch-2020-12-07-12-11-06-341/sourcedir.tar.gz\n",
      "sagemaker-pytorch-2020-12-07-14-05-17-419/source/sourcedir.tar.gz\n",
      "sagemaker-pytorch-2020-12-07-14-52-06-154/sourcedir.tar.gz\n",
      "sagemaker-pytorch-2020-12-07-19-25-48-308/debug-output/training_job_end.ts\n",
      "sagemaker-pytorch-2020-12-07-19-25-48-308/output/model.tar.gz\n",
      "sagemaker-pytorch-2020-12-07-19-25-48-308/source/sourcedir.tar.gz\n",
      "sagemaker-pytorch-2020-12-07-19-56-57-279/sourcedir.tar.gz\n",
      "sagemaker-pytorch-2020-12-07-23-53-06-474/source/sourcedir.tar.gz\n",
      "sagemaker-pytorch-2020-12-07-23-53-36-888/source/sourcedir.tar.gz\n",
      "sagemaker-pytorch-2020-12-07-23-55-26-537/source/sourcedir.tar.gz\n",
      "sagemaker-pytorch-2020-12-07-23-56-03-398/debug-output/training_job_end.ts\n",
      "sagemaker-pytorch-2020-12-07-23-56-03-398/output/model.tar.gz\n",
      "sagemaker-pytorch-2020-12-07-23-56-03-398/source/sourcedir.tar.gz\n",
      "sagemaker-pytorch-2020-12-08-00-20-28-997/debug-output/training_job_end.ts\n",
      "sagemaker-pytorch-2020-12-08-00-20-28-997/output/model.tar.gz\n",
      "sagemaker-pytorch-2020-12-08-00-20-28-997/source/sourcedir.tar.gz\n",
      "sagemaker-pytorch-2020-12-08-02-06-06-170/debug-output/training_job_end.ts\n",
      "sagemaker-pytorch-2020-12-08-02-06-06-170/output/model.tar.gz\n",
      "sagemaker-pytorch-2020-12-08-02-06-06-170/source/sourcedir.tar.gz\n",
      "sagemaker-pytorch-2020-12-08-02-09-15-534/source/sourcedir.tar.gz\n",
      "sagemaker-pytorch-2020-12-08-02-12-19-114/source/sourcedir.tar.gz\n",
      "sagemaker-pytorch-2020-12-08-02-12-32-018/source/sourcedir.tar.gz\n",
      "sagemaker-pytorch-2020-12-08-02-18-58-470/debug-output/training_job_end.ts\n",
      "sagemaker-pytorch-2020-12-08-02-18-58-470/output/model.tar.gz\n",
      "sagemaker-pytorch-2020-12-08-02-18-58-470/source/sourcedir.tar.gz\n",
      "sagemaker-pytorch-2020-12-13-17-46-56-959/source/sourcedir.tar.gz\n",
      "sagemaker-pytorch-2020-12-13-18-11-59-434/source/sourcedir.tar.gz\n",
      "sagemaker-pytorch-2020-12-13-19-37-45-969/sourcedir.tar.gz\n",
      "sagemaker-pytorch-2020-12-13-20-10-02-694/source/sourcedir.tar.gz\n",
      "sagemaker-pytorch-2020-12-13-20-49-58-154/source/sourcedir.tar.gz\n",
      "sagemaker-pytorch-2020-12-13-21-36-05-939/sourcedir.tar.gz\n",
      "sagemaker-pytorch-2020-12-13-22-17-45-620/source/sourcedir.tar.gz\n",
      "sagemaker-pytorch-2020-12-13-22-21-26-097/sourcedir.tar.gz\n",
      "sagemaker-pytorch-2020-12-13-22-22-18-330/source/sourcedir.tar.gz\n",
      "sagemaker-pytorch-2020-12-13-22-31-29-429/sourcedir.tar.gz\n",
      "sagemaker-pytorch-2020-12-13-22-47-44-924/source/sourcedir.tar.gz\n",
      "sagemaker-pytorch-2020-12-13-22-58-10-565/sourcedir.tar.gz\n",
      "sagemaker-pytorch-2020-12-14-00-19-26-240/source/sourcedir.tar.gz\n",
      "sagemaker-pytorch-2020-12-14-00-28-12-987/sourcedir.tar.gz\n",
      "sagemaker-pytorch-2020-12-14-00-28-16-060/sourcedir.tar.gz\n",
      "sagemaker-pytorch-2020-12-14-02-09-42-962/source/sourcedir.tar.gz\n",
      "sagemaker-pytorch-2020-12-14-02-18-28-346/sourcedir.tar.gz\n",
      "sagemaker-pytorch-2020-12-14-02-30-21-967/sourcedir.tar.gz\n",
      "sagemaker-pytorch-2020-12-14-02-40-39-381/sourcedir.tar.gz\n",
      "sagemaker-pytorch-2020-12-15-01-02-20-296/source/sourcedir.tar.gz\n",
      "sagemaker-pytorch-2020-12-15-01-12-22-250/sourcedir.tar.gz\n",
      "sagemaker-pytorch-2020-12-15-01-31-03-952/source/sourcedir.tar.gz\n",
      "sagemaker-pytorch-2020-12-15-01-45-46-258/sourcedir.tar.gz\n",
      "sagemaker-pytorch-2020-12-15-02-10-18-876/source/sourcedir.tar.gz\n",
      "sagemaker-pytorch-2020-12-15-04-45-27-062/sourcedir.tar.gz\n",
      "sagemaker-pytorch-2020-12-20-02-03-45-442/source/sourcedir.tar.gz\n",
      "sagemaker-pytorch-2020-12-20-02-09-03-557/output/model.tar.gz\n",
      "sagemaker-pytorch-2020-12-20-02-09-03-557/source/sourcedir.tar.gz\n",
      "sagemaker-pytorch-2020-12-20-02-14-08-173/output/model.tar.gz\n",
      "sagemaker-pytorch-2020-12-20-02-14-08-173/source/sourcedir.tar.gz\n",
      "sagemaker-pytorch-2020-12-20-02-23-50-776/debug-output/training_job_end.ts\n",
      "sagemaker-pytorch-2020-12-20-02-23-50-776/output/model.tar.gz\n",
      "sagemaker-pytorch-2020-12-20-02-23-50-776/source/sourcedir.tar.gz\n",
      "sagemaker-pytorch-2020-12-20-02-31-42-861/sourcedir.tar.gz\n",
      "sagemaker-record-sets/KMeans-2020-12-17-17-24-08-727/.amazon.manifest\n",
      "sagemaker-record-sets/KMeans-2020-12-17-17-24-08-727/matrix_0.pbr\n",
      "sagemaker-record-sets/KMeans-2020-12-17-17-24-50-798/.amazon.manifest\n",
      "sagemaker-record-sets/KMeans-2020-12-17-17-24-50-798/matrix_0.pbr\n",
      "sagemaker-record-sets/LinearLearner-2020-12-19-00-54-24-277/.amazon.manifest\n",
      "sagemaker-record-sets/LinearLearner-2020-12-19-00-54-24-277/matrix_0.pbr\n",
      "sagemaker-record-sets/LinearLearner-2020-12-19-01-06-15-827/.amazon.manifest\n",
      "sagemaker-record-sets/LinearLearner-2020-12-19-01-06-15-827/matrix_0.pbr\n",
      "sagemaker-record-sets/PCA-2020-12-17-15-31-29-101/.amazon.manifest\n",
      "sagemaker-record-sets/PCA-2020-12-17-15-31-29-101/matrix_0.pbr\n",
      "sagemaker/moon-data/train.csv\n",
      "sagemaker/sentiment_rnn/test.csv\n",
      "sagemaker/sentiment_rnn/train.csv\n",
      "sagemaker/sentiment_rnn/valid.csv\n",
      "sagemaker/sentiment_rnn/word_dict.pkl\n",
      "sagemaker/sentiment_rnn/word_dict_enhanced.pkl\n",
      "Test passed!\n"
     ]
    }
   ],
   "source": [
    "\"\"\"\n",
    "DON'T MODIFY ANYTHING IN THIS CELL THAT IS BELOW THIS LINE\n",
    "\"\"\"\n",
    "# confirm that data is in S3 bucket\n",
    "empty_check = []\n",
    "for obj in boto3.resource('s3').Bucket(bucket).objects.all():\n",
    "    empty_check.append(obj.key)\n",
    "    print(obj.key)\n",
    "\n",
    "assert len(empty_check) !=0, 'S3 bucket is empty.'\n",
    "print('Test passed!')"
   ]
  },
  {
   "cell_type": "markdown",
   "metadata": {},
   "source": [
    "---\n",
    "\n",
    "# Modeling\n",
    "\n",
    "Now that you've uploaded your training data, it's time to define and train a model!\n",
    "\n",
    "The type of model you create is up to you. For a binary classification task, you can choose to go one of three routes:\n",
    "* Use a built-in classification algorithm, like LinearLearner.\n",
    "* Define a custom Scikit-learn classifier, a comparison of models can be found [here](https://scikit-learn.org/stable/auto_examples/classification/plot_classifier_comparison.html).\n",
    "* Define a custom PyTorch neural network classifier. \n",
    "\n",
    "It will be up to you to test out a variety of models and choose the best one. Your project will be graded on the accuracy of your final model. \n",
    " \n",
    "---\n",
    "\n",
    "## EXERCISE: Complete a training script \n",
    "\n",
    "To implement a custom classifier, you'll need to complete a `train.py` script. You've been given the folders `source_sklearn` and `source_pytorch` which hold starting code for a custom Scikit-learn model and a PyTorch model, respectively. Each directory has a `train.py` training script. To complete this project **you only need to complete one of these scripts**; the script that is responsible for training your final model.\n",
    "\n",
    "A typical training script:\n",
    "* Loads training data from a specified directory\n",
    "* Parses any training & model hyperparameters (ex. nodes in a neural network, training epochs, etc.)\n",
    "* Instantiates a model of your design, with any specified hyperparams\n",
    "* Trains that model \n",
    "* Finally, saves the model so that it can be hosted/deployed, later\n",
    "\n",
    "### Defining and training a model\n",
    "Much of the training script code is provided for you. Almost all of your work will be done in the `if __name__ == '__main__':` section. To complete a `train.py` file, you will:\n",
    "1. Import any extra libraries you need\n",
    "2. Define any additional model training hyperparameters using `parser.add_argument`\n",
    "2. Define a model in the `if __name__ == '__main__':` section\n",
    "3. Train the model in that same section\n",
    "\n",
    "Below, you can use `!pygmentize` to display an existing `train.py` file. Read through the code; all of your tasks are marked with `TODO` comments. \n",
    "\n",
    "**Note: If you choose to create a custom PyTorch model, you will be responsible for defining the model in the `model.py` file,** and a `predict.py` file is provided. If you choose to use Scikit-learn, you only need a `train.py` file; you may import a classifier from the `sklearn` library."
   ]
  },
  {
   "cell_type": "markdown",
   "metadata": {},
   "source": [
    "### Local Training"
   ]
  },
  {
   "cell_type": "code",
   "execution_count": 66,
   "metadata": {},
   "outputs": [],
   "source": [
    "import pandas as pd\n",
    "import numpy as np\n",
    "from sklearn.ensemble import RandomForestClassifier\n",
    "from sklearn.metrics import confusion_matrix, accuracy_score"
   ]
  },
  {
   "cell_type": "code",
   "execution_count": 84,
   "metadata": {},
   "outputs": [
    {
     "data": {
      "text/plain": [
       "((70, 4),\n",
       "      0         1         2         3\n",
       " 0  0.0  0.398148  0.000000  0.191781\n",
       " 1  1.0  0.869369  0.449541  0.846491\n",
       " 2  1.0  0.593583  0.081967  0.316062\n",
       " 3  0.0  0.544503  0.000000  0.242574\n",
       " 4  0.0  0.329502  0.000000  0.161172)"
      ]
     },
     "execution_count": 84,
     "metadata": {},
     "output_type": "execute_result"
    }
   ],
   "source": [
    "data = pd.read_csv(\"plagiarism_data/train.csv\",header=None)\n",
    "(data.shape, data.head())"
   ]
  },
  {
   "cell_type": "code",
   "execution_count": null,
   "metadata": {},
   "outputs": [],
   "source": [
    "X = np.array(data.drop(0, axis=1))\n",
    "y = list(data[0].astype(int))"
   ]
  },
  {
   "cell_type": "code",
   "execution_count": 55,
   "metadata": {},
   "outputs": [
    {
     "data": {
      "text/plain": [
       "RandomForestClassifier()"
      ]
     },
     "execution_count": 55,
     "metadata": {},
     "output_type": "execute_result"
    }
   ],
   "source": [
    "rf = RandomForestClassifier()\n",
    "rf.fit(X, y)"
   ]
  },
  {
   "cell_type": "code",
   "execution_count": 63,
   "metadata": {},
   "outputs": [],
   "source": [
    "pred = list(rf.predict(X))"
   ]
  },
  {
   "cell_type": "code",
   "execution_count": 79,
   "metadata": {},
   "outputs": [
    {
     "data": {
      "text/plain": [
       "(array([[28,  0],\n",
       "        [ 0, 42]]),\n",
       " 1.0)"
      ]
     },
     "execution_count": 79,
     "metadata": {},
     "output_type": "execute_result"
    }
   ],
   "source": [
    "confusion_matrix(y, pred), accuracy_score(y, pred)"
   ]
  },
  {
   "cell_type": "code",
   "execution_count": 83,
   "metadata": {},
   "outputs": [
    {
     "data": {
      "text/plain": [
       "((25, 4),\n",
       "      0         1         2         3\n",
       " 0  1.0  1.000000  0.922280  0.820755\n",
       " 1  1.0  0.765306  0.589655  0.621711\n",
       " 2  1.0  0.884444  0.180995  0.597458\n",
       " 3  1.0  0.619048  0.043243  0.427835\n",
       " 4  1.0  0.920000  0.394366  0.775000)"
      ]
     },
     "execution_count": 83,
     "metadata": {},
     "output_type": "execute_result"
    }
   ],
   "source": [
    "test_data = pd.read_csv(\"plagiarism_data/test.csv\",header=None)\n",
    "(test_data.shape, test_data.head())"
   ]
  },
  {
   "cell_type": "code",
   "execution_count": 73,
   "metadata": {},
   "outputs": [],
   "source": [
    "X_test = np.array(test_data.drop(0, axis=1))\n",
    "y_test = list(test_data[0].astype(int))"
   ]
  },
  {
   "cell_type": "code",
   "execution_count": 74,
   "metadata": {},
   "outputs": [],
   "source": [
    "pred_test = list(rf.predict(X_test))"
   ]
  },
  {
   "cell_type": "code",
   "execution_count": 80,
   "metadata": {},
   "outputs": [
    {
     "data": {
      "text/plain": [
       "(array([[10,  0],\n",
       "        [ 0, 15]]),\n",
       " 1.0)"
      ]
     },
     "execution_count": 80,
     "metadata": {},
     "output_type": "execute_result"
    }
   ],
   "source": [
    "confusion_matrix(y_test, pred_test), accuracy_score(y_test, pred_test)"
   ]
  },
  {
   "cell_type": "code",
   "execution_count": 9,
   "metadata": {},
   "outputs": [
    {
     "name": "stdout",
     "output_type": "stream",
     "text": [
      "\u001b[34mfrom\u001b[39;49;00m \u001b[04m\u001b[36m__future__\u001b[39;49;00m \u001b[34mimport\u001b[39;49;00m print_function\r\n",
      "\r\n",
      "\u001b[34mimport\u001b[39;49;00m \u001b[04m\u001b[36margparse\u001b[39;49;00m\r\n",
      "\u001b[34mimport\u001b[39;49;00m \u001b[04m\u001b[36mos\u001b[39;49;00m\r\n",
      "\u001b[34mimport\u001b[39;49;00m \u001b[04m\u001b[36mpandas\u001b[39;49;00m \u001b[34mas\u001b[39;49;00m \u001b[04m\u001b[36mpd\u001b[39;49;00m\r\n",
      "\r\n",
      "\u001b[37m# sklearn.externals.joblib is deprecated in 0.21 and will be removed in 0.23. \u001b[39;49;00m\r\n",
      "\u001b[37m# from sklearn.externals import joblib\u001b[39;49;00m\r\n",
      "\u001b[37m# Import joblib package directly\u001b[39;49;00m\r\n",
      "\u001b[34mimport\u001b[39;49;00m \u001b[04m\u001b[36mjoblib\u001b[39;49;00m\r\n",
      "\r\n",
      "\u001b[37m## TODO: Import any additional libraries you need to define a model\u001b[39;49;00m\r\n",
      "\r\n",
      "\r\n",
      "\u001b[37m# Provided model load function\u001b[39;49;00m\r\n",
      "\u001b[34mdef\u001b[39;49;00m \u001b[32mmodel_fn\u001b[39;49;00m(model_dir):\r\n",
      "    \u001b[33m\"\"\"Load model from the model_dir. This is the same model that is saved\u001b[39;49;00m\r\n",
      "\u001b[33m    in the main if statement.\u001b[39;49;00m\r\n",
      "\u001b[33m    \"\"\"\u001b[39;49;00m\r\n",
      "    \u001b[36mprint\u001b[39;49;00m(\u001b[33m\"\u001b[39;49;00m\u001b[33mLoading model.\u001b[39;49;00m\u001b[33m\"\u001b[39;49;00m)\r\n",
      "    \r\n",
      "    \u001b[37m# load using joblib\u001b[39;49;00m\r\n",
      "    model = joblib.load(os.path.join(model_dir, \u001b[33m\"\u001b[39;49;00m\u001b[33mmodel.joblib\u001b[39;49;00m\u001b[33m\"\u001b[39;49;00m))\r\n",
      "    \u001b[36mprint\u001b[39;49;00m(\u001b[33m\"\u001b[39;49;00m\u001b[33mDone loading model.\u001b[39;49;00m\u001b[33m\"\u001b[39;49;00m)\r\n",
      "    \r\n",
      "    \u001b[34mreturn\u001b[39;49;00m model\r\n",
      "\r\n",
      "\r\n",
      "\u001b[37m## TODO: Complete the main code\u001b[39;49;00m\r\n",
      "\u001b[34mif\u001b[39;49;00m \u001b[31m__name__\u001b[39;49;00m == \u001b[33m'\u001b[39;49;00m\u001b[33m__main__\u001b[39;49;00m\u001b[33m'\u001b[39;49;00m:\r\n",
      "    \r\n",
      "    \u001b[37m# All of the model parameters and training parameters are sent as arguments\u001b[39;49;00m\r\n",
      "    \u001b[37m# when this script is executed, during a training job\u001b[39;49;00m\r\n",
      "    \r\n",
      "    \u001b[37m# Here we set up an argument parser to easily access the parameters\u001b[39;49;00m\r\n",
      "    parser = argparse.ArgumentParser()\r\n",
      "\r\n",
      "    \u001b[37m# SageMaker parameters, like the directories for training data and saving models; set automatically\u001b[39;49;00m\r\n",
      "    \u001b[37m# Do not need to change\u001b[39;49;00m\r\n",
      "    parser.add_argument(\u001b[33m'\u001b[39;49;00m\u001b[33m--output-data-dir\u001b[39;49;00m\u001b[33m'\u001b[39;49;00m, \u001b[36mtype\u001b[39;49;00m=\u001b[36mstr\u001b[39;49;00m, default=os.environ[\u001b[33m'\u001b[39;49;00m\u001b[33mSM_OUTPUT_DATA_DIR\u001b[39;49;00m\u001b[33m'\u001b[39;49;00m])\r\n",
      "    parser.add_argument(\u001b[33m'\u001b[39;49;00m\u001b[33m--model-dir\u001b[39;49;00m\u001b[33m'\u001b[39;49;00m, \u001b[36mtype\u001b[39;49;00m=\u001b[36mstr\u001b[39;49;00m, default=os.environ[\u001b[33m'\u001b[39;49;00m\u001b[33mSM_MODEL_DIR\u001b[39;49;00m\u001b[33m'\u001b[39;49;00m])\r\n",
      "    parser.add_argument(\u001b[33m'\u001b[39;49;00m\u001b[33m--data-dir\u001b[39;49;00m\u001b[33m'\u001b[39;49;00m, \u001b[36mtype\u001b[39;49;00m=\u001b[36mstr\u001b[39;49;00m, default=os.environ[\u001b[33m'\u001b[39;49;00m\u001b[33mSM_CHANNEL_TRAIN\u001b[39;49;00m\u001b[33m'\u001b[39;49;00m])\r\n",
      "    \r\n",
      "    \u001b[37m## TODO: Add any additional arguments that you will need to pass into your model\u001b[39;49;00m\r\n",
      "    \r\n",
      "    \u001b[37m# args holds all passed-in arguments\u001b[39;49;00m\r\n",
      "    args = parser.parse_args()\r\n",
      "\r\n",
      "    \u001b[37m# Read in csv training file\u001b[39;49;00m\r\n",
      "    training_dir = args.data_dir\r\n",
      "    train_data = pd.read_csv(os.path.join(training_dir, \u001b[33m\"\u001b[39;49;00m\u001b[33mtrain.csv\u001b[39;49;00m\u001b[33m\"\u001b[39;49;00m), header=\u001b[34mNone\u001b[39;49;00m, names=\u001b[34mNone\u001b[39;49;00m)\r\n",
      "\r\n",
      "    \u001b[37m# Labels are in the first column\u001b[39;49;00m\r\n",
      "    train_y = train_data.iloc[:,\u001b[34m0\u001b[39;49;00m]\r\n",
      "    train_x = train_data.iloc[:,\u001b[34m1\u001b[39;49;00m:]\r\n",
      "    \r\n",
      "    \r\n",
      "    \u001b[37m## --- Your code here --- ##\u001b[39;49;00m\r\n",
      "    \r\n",
      "\r\n",
      "    \u001b[37m## TODO: Define a model \u001b[39;49;00m\r\n",
      "    model = \u001b[34mNone\u001b[39;49;00m\r\n",
      "    \r\n",
      "    \r\n",
      "    \u001b[37m## TODO: Train the model\u001b[39;49;00m\r\n",
      "    \r\n",
      "    \r\n",
      "    \r\n",
      "    \u001b[37m## --- End of your code  --- ##\u001b[39;49;00m\r\n",
      "    \r\n",
      "\r\n",
      "    \u001b[37m# Save the trained model\u001b[39;49;00m\r\n",
      "    joblib.dump(model, os.path.join(args.model_dir, \u001b[33m\"\u001b[39;49;00m\u001b[33mmodel.joblib\u001b[39;49;00m\u001b[33m\"\u001b[39;49;00m))\r\n"
     ]
    }
   ],
   "source": [
    "# directory can be changed to: source_sklearn or source_pytorch\n",
    "!pygmentize source_sklearn/train.py"
   ]
  },
  {
   "cell_type": "markdown",
   "metadata": {},
   "source": [
    "### Provided code\n",
    "\n",
    "If you read the code above, you can see that the starter code includes a few things:\n",
    "* Model loading (`model_fn`) and saving code\n",
    "* Getting SageMaker's default hyperparameters\n",
    "* Loading the training data by name, `train.csv` and extracting the features and labels, `train_x`, and `train_y`\n",
    "\n",
    "If you'd like to read more about model saving with [joblib for sklearn](https://scikit-learn.org/stable/modules/model_persistence.html) or with [torch.save](https://pytorch.org/tutorials/beginner/saving_loading_models.html), click on the provided links."
   ]
  },
  {
   "cell_type": "markdown",
   "metadata": {},
   "source": [
    "---\n",
    "# Create an Estimator\n",
    "\n",
    "When a custom model is constructed in SageMaker, an entry point must be specified. This is the Python file which will be executed when the model is trained; the `train.py` function you specified above. To run a custom training script in SageMaker, construct an estimator, and fill in the appropriate constructor arguments:\n",
    "\n",
    "* **entry_point**: The path to the Python script SageMaker runs for training and prediction.\n",
    "* **source_dir**: The path to the training script directory `source_sklearn` OR `source_pytorch`.\n",
    "* **entry_point**: The path to the Python script SageMaker runs for training and prediction.\n",
    "* **source_dir**: The path to the training script directory `train_sklearn` OR `train_pytorch`.\n",
    "* **entry_point**: The path to the Python script SageMaker runs for training.\n",
    "* **source_dir**: The path to the training script directory `train_sklearn` OR `train_pytorch`.\n",
    "* **role**: Role ARN, which was specified, above.\n",
    "* **train_instance_count**: The number of training instances (should be left at 1).\n",
    "* **train_instance_type**: The type of SageMaker instance for training. Note: Because Scikit-learn does not natively support GPU training, Sagemaker Scikit-learn does not currently support training on GPU instance types.\n",
    "* **sagemaker_session**: The session used to train on Sagemaker.\n",
    "* **hyperparameters** (optional): A dictionary `{'name':value, ..}` passed to the train function as hyperparameters.\n",
    "\n",
    "Note: For a PyTorch model, there is another optional argument **framework_version**, which you can set to the latest version of PyTorch, `1.0`.\n",
    "\n",
    "## EXERCISE: Define a Scikit-learn or PyTorch estimator\n",
    "\n",
    "To import your desired estimator, use one of the following lines:\n",
    "```\n",
    "from sagemaker.sklearn.estimator import SKLearn\n",
    "```\n",
    "```\n",
    "from sagemaker.pytorch import PyTorch\n",
    "```"
   ]
  },
  {
   "cell_type": "code",
   "execution_count": null,
   "metadata": {
    "collapsed": true
   },
   "outputs": [],
   "source": [
    "\n",
    "# your import and estimator code, here\n"
   ]
  },
  {
   "cell_type": "markdown",
   "metadata": {},
   "source": [
    "## EXERCISE: Train the estimator\n",
    "\n",
    "Train your estimator on the training data stored in S3. This should create a training job that you can monitor in your SageMaker console."
   ]
  },
  {
   "cell_type": "code",
   "execution_count": null,
   "metadata": {
    "collapsed": true
   },
   "outputs": [],
   "source": [
    "%%time\n",
    "\n",
    "# Train your estimator on S3 training data\n",
    "\n"
   ]
  },
  {
   "cell_type": "markdown",
   "metadata": {},
   "source": [
    "## EXERCISE: Deploy the trained model\n",
    "\n",
    "After training, deploy your model to create a `predictor`. If you're using a PyTorch model, you'll need to create a trained `PyTorchModel` that accepts the trained `<model>.model_data` as an input parameter and points to the provided `source_pytorch/predict.py` file as an entry point. \n",
    "\n",
    "To deploy a trained model, you'll use `<model>.deploy`, which takes in two arguments:\n",
    "* **initial_instance_count**: The number of deployed instances (1).\n",
    "* **instance_type**: The type of SageMaker instance for deployment.\n",
    "\n",
    "Note: If you run into an instance error, it may be because you chose the wrong training or deployment instance_type. It may help to refer to your previous exercise code to see which types of instances we used."
   ]
  },
  {
   "cell_type": "code",
   "execution_count": null,
   "metadata": {
    "collapsed": true
   },
   "outputs": [],
   "source": [
    "%%time\n",
    "\n",
    "# uncomment, if needed\n",
    "# from sagemaker.pytorch import PyTorchModel\n",
    "\n",
    "\n",
    "# deploy your model to create a predictor\n",
    "predictor = None\n"
   ]
  },
  {
   "cell_type": "markdown",
   "metadata": {},
   "source": [
    "---\n",
    "# Evaluating Your Model\n",
    "\n",
    "Once your model is deployed, you can see how it performs when applied to our test data.\n",
    "\n",
    "The provided cell below, reads in the test data, assuming it is stored locally in `data_dir` and named `test.csv`. The labels and features are extracted from the `.csv` file."
   ]
  },
  {
   "cell_type": "code",
   "execution_count": null,
   "metadata": {
    "collapsed": true
   },
   "outputs": [],
   "source": [
    "\"\"\"\n",
    "DON'T MODIFY ANYTHING IN THIS CELL THAT IS BELOW THIS LINE\n",
    "\"\"\"\n",
    "import os\n",
    "\n",
    "# read in test data, assuming it is stored locally\n",
    "test_data = pd.read_csv(os.path.join(data_dir, \"test.csv\"), header=None, names=None)\n",
    "\n",
    "# labels are in the first column\n",
    "test_y = test_data.iloc[:,0]\n",
    "test_x = test_data.iloc[:,1:]"
   ]
  },
  {
   "cell_type": "markdown",
   "metadata": {},
   "source": [
    "## EXERCISE: Determine the accuracy of your model\n",
    "\n",
    "Use your deployed `predictor` to generate predicted, class labels for the test data. Compare those to the *true* labels, `test_y`, and calculate the accuracy as a value between 0 and 1.0 that indicates the fraction of test data that your model classified correctly. You may use [sklearn.metrics](https://scikit-learn.org/stable/modules/classes.html#module-sklearn.metrics) for this calculation.\n",
    "\n",
    "**To pass this project, your model should get at least 90% test accuracy.**"
   ]
  },
  {
   "cell_type": "code",
   "execution_count": null,
   "metadata": {
    "collapsed": true
   },
   "outputs": [],
   "source": [
    "# First: generate predicted, class labels\n",
    "test_y_preds = None\n",
    "\n",
    "\n",
    "\"\"\"\n",
    "DON'T MODIFY ANYTHING IN THIS CELL THAT IS BELOW THIS LINE\n",
    "\"\"\"\n",
    "# test that your model generates the correct number of labels\n",
    "assert len(test_y_preds)==len(test_y), 'Unexpected number of predictions.'\n",
    "print('Test passed!')"
   ]
  },
  {
   "cell_type": "code",
   "execution_count": null,
   "metadata": {
    "collapsed": true
   },
   "outputs": [],
   "source": [
    "# Second: calculate the test accuracy\n",
    "accuracy = None\n",
    "\n",
    "print(accuracy)\n",
    "\n",
    "\n",
    "## print out the array of predicted and true labels, if you want\n",
    "print('\\nPredicted class labels: ')\n",
    "print(test_y_preds)\n",
    "print('\\nTrue class labels: ')\n",
    "print(test_y.values)"
   ]
  },
  {
   "cell_type": "markdown",
   "metadata": {},
   "source": [
    "### Question 1: How many false positives and false negatives did your model produce, if any? And why do you think this is?"
   ]
  },
  {
   "cell_type": "markdown",
   "metadata": {},
   "source": [
    "** Answer**: \n"
   ]
  },
  {
   "cell_type": "markdown",
   "metadata": {},
   "source": [
    "### Question 2: How did you decide on the type of model to use? "
   ]
  },
  {
   "cell_type": "markdown",
   "metadata": {},
   "source": [
    "** Answer**:\n",
    "\n"
   ]
  },
  {
   "cell_type": "markdown",
   "metadata": {},
   "source": [
    "----\n",
    "## EXERCISE: Clean up Resources\n",
    "\n",
    "After you're done evaluating your model, **delete your model endpoint**. You can do this with a call to `.delete_endpoint()`. You need to show, in this notebook, that the endpoint was deleted. Any other resources, you may delete from the AWS console, and you will find more instructions on cleaning up all your resources, below."
   ]
  },
  {
   "cell_type": "code",
   "execution_count": null,
   "metadata": {
    "collapsed": true
   },
   "outputs": [],
   "source": [
    "# uncomment and fill in the line below!\n",
    "# <name_of_deployed_predictor>.delete_endpoint()\n"
   ]
  },
  {
   "cell_type": "markdown",
   "metadata": {},
   "source": [
    "### Deleting S3 bucket\n",
    "\n",
    "When you are *completely* done with training and testing models, you can also delete your entire S3 bucket. If you do this before you are done training your model, you'll have to recreate your S3 bucket and upload your training data again."
   ]
  },
  {
   "cell_type": "code",
   "execution_count": null,
   "metadata": {
    "collapsed": true
   },
   "outputs": [],
   "source": [
    "# deleting bucket, uncomment lines below\n",
    "\n",
    "# bucket_to_delete = boto3.resource('s3').Bucket(bucket)\n",
    "# bucket_to_delete.objects.all().delete()"
   ]
  },
  {
   "cell_type": "markdown",
   "metadata": {},
   "source": [
    "### Deleting all your models and instances\n",
    "\n",
    "When you are _completely_ done with this project and do **not** ever want to revisit this notebook, you can choose to delete all of your SageMaker notebook instances and models by following [these instructions](https://docs.aws.amazon.com/sagemaker/latest/dg/ex1-cleanup.html). Before you delete this notebook instance, I recommend at least downloading a copy and saving it, locally."
   ]
  },
  {
   "cell_type": "markdown",
   "metadata": {},
   "source": [
    "---\n",
    "## Further Directions\n",
    "\n",
    "There are many ways to improve or add on to this project to expand your learning or make this more of a unique project for you. A few ideas are listed below:\n",
    "* Train a classifier to predict the *category* (1-3) of plagiarism and not just plagiarized (1) or not (0).\n",
    "* Utilize a different and larger dataset to see if this model can be extended to other types of plagiarism.\n",
    "* Use language or character-level analysis to find different (and more) similarity features.\n",
    "* Write a complete pipeline function that accepts a source text and submitted text file, and classifies the submitted text as plagiarized or not.\n",
    "* Use API Gateway and a lambda function to deploy your model to a web application.\n",
    "\n",
    "These are all just options for extending your work. If you've completed all the exercises in this notebook, you've completed a real-world application, and can proceed to submit your project. Great job!"
   ]
  }
 ],
 "metadata": {
  "kernelspec": {
   "display_name": "Python 3",
   "language": "python",
   "name": "python3"
  },
  "language_info": {
   "codemirror_mode": {
    "name": "ipython",
    "version": 3
   },
   "file_extension": ".py",
   "mimetype": "text/x-python",
   "name": "python",
   "nbconvert_exporter": "python",
   "pygments_lexer": "ipython3",
   "version": "3.8.5"
  }
 },
 "nbformat": 4,
 "nbformat_minor": 2
}
